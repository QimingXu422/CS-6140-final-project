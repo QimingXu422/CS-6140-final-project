{
 "cells": [
  {
   "cell_type": "markdown",
   "metadata": {},
   "source": [
    "# CS6140 Assignments\n",
    "\n",
    "**Instructions**\n",
    "1. In each assignment cell, look for the block:\n",
    " ```\n",
    "  #BEGIN YOUR CODE\n",
    "  raise NotImplementedError.new()\n",
    "  #END YOUR CODE\n",
    " ```\n",
    "1. Replace this block with your solution.\n",
    "1. Test your solution by running the cells following your block (indicated by ##TEST##)\n",
    "1. Click the \"Validate\" button above to validate the work.\n",
    "\n",
    "**Notes**\n",
    "* You may add other cells and functions as needed\n",
    "* Keep all code in the same notebook\n",
    "* In order to receive credit, code must \"Validate\" on the JupyterHub server\n",
    "\n",
    "---"
   ]
  },
  {
   "cell_type": "code",
   "execution_count": null,
   "metadata": {},
   "outputs": [],
   "source": []
  },
  {
   "cell_type": "markdown",
   "metadata": {},
   "source": [
    "# Final Project: Part 3 - Classifiers\n",
    "\n",
    "In [Part 2](../part-2.ipynb) we implemented basic features and calculated their Information Gain. Now we will use these features to train some models. Your assignment will be graded based on performance on a **test** database with the same schema, which is not provided to you. The Validate step applies to the **training** and **dev** databases. \n",
    "\n",
    "As you discover new features, go back to [Part 2](../part-2.ipynb) and add them to demonstrate good information gain. Note the following requirements:\n",
    "\n",
    "1. Focus on data preparation and creating, normalizing, understanding new features.\n",
    "1. Use your implementation of models.\n",
    "1. Avoid creating new models that we did not cover in the class. There is no credit for fancy models.\n",
    "1. Do not use the target label, or anything that is derived based on the training label as features. \n",
    "1. You may talk to other students about your solution, but do not share code. \n",
    "\n",
    "Also, here are some hints:\n",
    "\n",
    "* Use sampling when training on the **training** databases. There is no requirement to use everything."
   ]
  },
  {
   "cell_type": "code",
   "execution_count": 1,
   "metadata": {},
   "outputs": [
    {
     "data": {
      "application/javascript": [
       "if(window['d3'] === undefined ||\n",
       "   window['Nyaplot'] === undefined){\n",
       "    var path = {\"d3\":\"https://cdnjs.cloudflare.com/ajax/libs/d3/3.5.5/d3.min\",\"downloadable\":\"http://cdn.rawgit.com/domitry/d3-downloadable/master/d3-downloadable\"};\n",
       "\n",
       "\n",
       "\n",
       "    var shim = {\"d3\":{\"exports\":\"d3\"},\"downloadable\":{\"exports\":\"downloadable\"}};\n",
       "\n",
       "    require.config({paths: path, shim:shim});\n",
       "\n",
       "\n",
       "require(['d3'], function(d3){window['d3']=d3;console.log('finished loading d3');require(['downloadable'], function(downloadable){window['downloadable']=downloadable;console.log('finished loading downloadable');\n",
       "\n",
       "\tvar script = d3.select(\"head\")\n",
       "\t    .append(\"script\")\n",
       "\t    .attr(\"src\", \"http://cdn.rawgit.com/domitry/Nyaplotjs/master/release/nyaplot.js\")\n",
       "\t    .attr(\"async\", true);\n",
       "\n",
       "\tscript[0][0].onload = script[0][0].onreadystatechange = function(){\n",
       "\n",
       "\n",
       "\t    var event = document.createEvent(\"HTMLEvents\");\n",
       "\t    event.initEvent(\"load_nyaplot\",false,false);\n",
       "\t    window.dispatchEvent(event);\n",
       "\t    console.log('Finished loading Nyaplotjs');\n",
       "\n",
       "\t};\n",
       "\n",
       "\n",
       "});});\n",
       "}\n"
      ],
      "text/plain": [
       "\"if(window['d3'] === undefined ||\\n   window['Nyaplot'] === undefined){\\n    var path = {\\\"d3\\\":\\\"https://cdnjs.cloudflare.com/ajax/libs/d3/3.5.5/d3.min\\\",\\\"downloadable\\\":\\\"http://cdn.rawgit.com/domitry/d3-downloadable/master/d3-downloadable\\\"};\\n\\n\\n\\n    var shim = {\\\"d3\\\":{\\\"exports\\\":\\\"d3\\\"},\\\"downloadable\\\":{\\\"exports\\\":\\\"downloadable\\\"}};\\n\\n    require.config({paths: path, shim:shim});\\n\\n\\nrequire(['d3'], function(d3){window['d3']=d3;console.log('finished loading d3');require(['downloadable'], function(downloadable){window['downloadable']=downloadable;console.log('finished loading downloadable');\\n\\n\\tvar script = d3.select(\\\"head\\\")\\n\\t    .append(\\\"script\\\")\\n\\t    .attr(\\\"src\\\", \\\"http://cdn.rawgit.com/domitry/Nyaplotjs/master/release/nyaplot.js\\\")\\n\\t    .attr(\\\"async\\\", true);\\n\\n\\tscript[0][0].onload = script[0][0].onreadystatechange = function(){\\n\\n\\n\\t    var event = document.createEvent(\\\"HTMLEvents\\\");\\n\\t    event.initEvent(\\\"load_nyaplot\\\",false,false);\\n\\t    window.dispatchEvent(event);\\n\\t    console.log('Finished loading Nyaplotjs');\\n\\n\\t};\\n\\n\\n});});\\n}\\n\""
      ]
     },
     "metadata": {},
     "output_type": "display_data"
    },
    {
     "data": {
      "text/plain": [
       "#<SQLite3::Database:0x0000000002035078 @tracefunc=nil, @authorizer=nil, @encoding=nil, @busy_handler=nil, @collations={}, @functions={}, @results_as_hash=true, @type_translation=nil, @readonly=true>"
      ]
     },
     "execution_count": 1,
     "metadata": {},
     "output_type": "execute_result"
    }
   ],
   "source": [
    "require './assignment_lib'\n",
    "dir = \"/home/dataset\"\n",
    "\n",
    "$train_db = SQLite3::Database.new \"#{dir}/credit_risk_data_train.db\", results_as_hash: true, readonly: true\n",
    "$dev_db = SQLite3::Database.new \"#{dir}/credit_risk_data_dev.db\", results_as_hash: true, readonly: true"
   ]
  },
  {
   "cell_type": "markdown",
   "metadata": {},
   "source": [
    "## Question 1.1 (10 Points)\n",
    "\n",
    "Implement a random classifier, one in which the score is a random number. Verify the AUC is 0.5 on training, dev, and test sets. \n",
    "\n",
    "Each training method should create features as needed from the provided database. The result must comply with the following format:\n",
    "\n",
    "```ruby\n",
    "predictions = Hash.new\n",
    "predictions[12345] = score    \n",
    "```\n",
    "\n",
    "Note that predictions is an integer, so the output looks like this:\n",
    "\n",
    "```ruby\n",
    "predictions = {\n",
    "    12345 => 0.9\n",
    "}\n",
    "```\n"
   ]
  },
  {
   "cell_type": "code",
   "execution_count": 251,
   "metadata": {},
   "outputs": [
    {
     "data": {
      "text/plain": [
       ":create_dataset"
      ]
     },
     "execution_count": 251,
     "metadata": {},
     "output_type": "execute_result"
    }
   ],
   "source": [
    "def create_dataset db, sql\n",
    "  start_time = Time.new\n",
    "  puts \"create_dataset Start Time : \" + start_time.inspect\n",
    "  dataset = []\n",
    "  db.execute sql do |row|\n",
    "    # BEGIN YOUR CODE\n",
    "#     puts row\n",
    "    data_point = Hash.new\n",
    "    data_point[\"features\"] = Hash.new\n",
    "    row.keys.each do |key|\n",
    "      if key.is_a? String\n",
    "        if key == \"SK_ID_CURR\"\n",
    "          data_point[\"id\"] = row[key]\n",
    "        elsif key == \"TARGET\"\n",
    "          data_point[\"label\"] = row[key]\n",
    "        else\n",
    "          data_point[\"features\"][key.downcase] = row[key]\n",
    "        end\n",
    "      end\n",
    "    end\n",
    "    dataset << data_point\n",
    "    #END YOUR CODE\n",
    "  end\n",
    "  end_time = Time.new\n",
    "  puts \"create_dataset End Time : \" + end_time.inspect\n",
    "#   puts dataset[0]\n",
    "  return dataset\n",
    "end"
   ]
  },
  {
   "cell_type": "code",
   "execution_count": 328,
   "metadata": {},
   "outputs": [
    {
     "data": {
      "text/plain": [
       ":class_distribution"
      ]
     },
     "execution_count": 328,
     "metadata": {},
     "output_type": "execute_result"
    }
   ],
   "source": [
    "def class_distribution dataset\n",
    "  # BEGIN YOUR CODE\n",
    "  res = Hash.new {|h,k| h[k] = 0}\n",
    "#   puts \"start grouping\"\n",
    "  group = dataset.group_by{|p| p[\"label\"]}\n",
    "#   puts \"end grouping\"\n",
    "  group.keys.each do |k|\n",
    "    res[k] = group[k].length * 1.0 / dataset.length\n",
    "  end\n",
    "  return res\n",
    "  #END YOUR CODE\n",
    "end"
   ]
  },
  {
   "cell_type": "code",
   "execution_count": 253,
   "metadata": {},
   "outputs": [
    {
     "data": {
      "text/plain": [
       ":entropy"
      ]
     },
     "execution_count": 253,
     "metadata": {},
     "output_type": "execute_result"
    }
   ],
   "source": [
    "def entropy dist\n",
    "  # BEGIN YOUR CODE\n",
    "  entropy = 0\n",
    "  sum = 0\n",
    "  dist.keys.each do |k|\n",
    "    sum += dist[k]\n",
    "  end\n",
    "  dist.keys.each do |k|\n",
    "    pro = dist[k] * 1.0 / sum\n",
    "    if pro != 0\n",
    "      entropy -= pro * Math.log(pro)\n",
    "    end\n",
    "  end\n",
    "  return entropy\n",
    "  #END YOUR CODE\n",
    "end"
   ]
  },
  {
   "cell_type": "code",
   "execution_count": 254,
   "metadata": {},
   "outputs": [
    {
     "data": {
      "text/plain": [
       ":find_split_point_numeric"
      ]
     },
     "execution_count": 254,
     "metadata": {},
     "output_type": "execute_result"
    }
   ],
   "source": [
    "def find_split_point_numeric x, h0, fname\n",
    "  # BEGIN YOUR CODE\n",
    "  x.each do |p|\n",
    "    if !p[\"features\"].key?(fname) || p[\"features\"][fname] == \"\"\n",
    "      p[\"features\"][fname] = 0\n",
    "    end\n",
    "  end\n",
    "  sorted_x = x.sort_by{|p| p[\"features\"][fname]}\n",
    "  farray = sorted_x.map{|p| p[\"features\"][fname]}.uniq\n",
    "  farray << farray[farray.length - 1] + 1\n",
    "  tindex = 0\n",
    "  best_threshhood = farray[tindex]\n",
    "  best_ig = 0\n",
    "  index = 0\n",
    "  while index < sorted_x.length do\n",
    "    while (index < sorted_x.length &&sorted_x[index][\"features\"][fname] < farray[tindex]) do\n",
    "      index += 1\n",
    "    end\n",
    "    tindex += 1\n",
    "    threshhood = farray[tindex - 1]\n",
    "    split = {\"l\" => sorted_x[0, index], \"r\" => sorted_x[index, sorted_x.length]}\n",
    "    ig = information_gain(h0, split)\n",
    "    if ig > best_ig\n",
    "      best_ig = ig\n",
    "      best_threshhood = threshhood\n",
    "    end\n",
    "  end\n",
    "  return [best_threshhood, best_ig]\n",
    "  #END YOUR CODE\n",
    "end"
   ]
  },
  {
   "cell_type": "code",
   "execution_count": 255,
   "metadata": {},
   "outputs": [
    {
     "data": {
      "text/plain": [
       ":information_gain"
      ]
     },
     "execution_count": 255,
     "metadata": {},
     "output_type": "execute_result"
    }
   ],
   "source": [
    "def information_gain h0, splits\n",
    "  # BEGIN YOUR CODE\n",
    "  ig = h0\n",
    "  count = 0\n",
    "  splits.keys.each do |k|\n",
    "    count += splits[k].length\n",
    "  end\n",
    "  splits.keys.each do |k|\n",
    "    subset_entropy = entropy(class_distribution(splits[k]))\n",
    "    ig -= splits[k].length * subset_entropy / count\n",
    "  end\n",
    "  return ig\n",
    "  #END YOUR CODE\n",
    "end"
   ]
  },
  {
   "cell_type": "code",
   "execution_count": 336,
   "metadata": {},
   "outputs": [
    {
     "data": {
      "text/plain": [
       ":extract_features"
      ]
     },
     "execution_count": 336,
     "metadata": {},
     "output_type": "execute_result"
    }
   ],
   "source": [
    "def extract_features db\n",
    "  dataset = []\n",
    "  # BEGIN YOUR CODE\n",
    "  sql0 =  \"select * from application_train limit 1000\"\n",
    "  sql1 = \"select TARGET, SK_ID_CURR, OWN_CAR_AGE, EXT_SOURCE_1, EXT_SOURCE_2, EXT_SOURCE_3, APARTMENTS_AVG, BASEMENTAREA_AVG, YEARS_BEGINEXPLUATATION_AVG, YEARS_BUILD_AVG, COMMONAREA_AVG, ELEVATORS_AVG, ENTRANCES_AVG, FLOORSMAX_AVG, FLOORSMIN_AVG, LANDAREA_AVG, LIVINGAPARTMENTS_AVG, LIVINGAREA_AVG, NONLIVINGAPARTMENTS_AVG, NONLIVINGAREA_AVG, APARTMENTS_MODE, BASEMENTAREA_MODE, YEARS_BEGINEXPLUATATION_MODE, YEARS_BUILD_MODE, COMMONAREA_MODE, ELEVATORS_MODE, ENTRANCES_MODE, FLOORSMAX_MODE, FLOORSMIN_MODE, LANDAREA_MODE, LIVINGAPARTMENTS_MODE, LIVINGAREA_MODE, NONLIVINGAPARTMENTS_MODE, NONLIVINGAREA_MODE, APARTMENTS_MEDI, BASEMENTAREA_MEDI, YEARS_BEGINEXPLUATATION_MEDI, YEARS_BUILD_MEDI, COMMONAREA_MEDI, ELEVATORS_MEDI, ENTRANCES_MEDI, FLOORSMAX_MEDI, FLOORSMIN_MEDI, LANDAREA_MEDI, LIVINGAPARTMENTS_MEDI, LIVINGAREA_MEDI, NONLIVINGAPARTMENTS_MEDI, NONLIVINGAREA_MEDI, FONDKAPREMONT_MODE, HOUSETYPE_MODE, TOTALAREA_MODE, WALLSMATERIAL_MODE, EMERGENCYSTATE_MODE, AMT_REQ_CREDIT_BUREAU_HOUR, AMT_REQ_CREDIT_BUREAU_DAY, AMT_REQ_CREDIT_BUREAU_WEEK, AMT_REQ_CREDIT_BUREAU_MON, AMT_REQ_CREDIT_BUREAU_QRT, AMT_REQ_CREDIT_BUREAU_YEAR\n",
    "            from application_train\"\n",
    "  sql2 = \"select TARGET, SK_ID_CURR, OWN_CAR_AGE, EXT_SOURCE_1, EXT_SOURCE_2, EXT_SOURCE_3,NONLIVINGAPARTMENTS_MEDI\n",
    "            from application_train\"\n",
    "  dataset = create_dataset(db, sql0)\n",
    "  #END YOUR CODE\n",
    "  return dataset\n",
    "end"
   ]
  },
  {
   "cell_type": "code",
   "execution_count": 257,
   "metadata": {
    "deletable": false,
    "nbgrader": {
     "checksum": "a2ee74c60189fe7aeb13c6b60e61f5f9",
     "grade": false,
     "grade_id": "cell-233292d68b84f539",
     "locked": false,
     "schema_version": 1,
     "solution": true
    }
   },
   "outputs": [
    {
     "data": {
      "text/plain": [
       ":train_random_classifier"
      ]
     },
     "execution_count": 257,
     "metadata": {},
     "output_type": "execute_result"
    }
   ],
   "source": [
    "def train_random_classifier train_db\n",
    "  model = nil\n",
    "  # BEGIN YOUR CODE\n",
    "\n",
    "  #END YOUR CODE\n",
    "  return model\n",
    "end"
   ]
  },
  {
   "cell_type": "code",
   "execution_count": 258,
   "metadata": {
    "deletable": false,
    "nbgrader": {
     "checksum": "09b647a0bb0b77510b52913240578b3c",
     "grade": false,
     "grade_id": "cell-f398af5e32f0824a",
     "locked": false,
     "schema_version": 1,
     "solution": true
    }
   },
   "outputs": [
    {
     "data": {
      "text/plain": [
       ":eval_random_classifier_on"
      ]
     },
     "execution_count": 258,
     "metadata": {},
     "output_type": "execute_result"
    }
   ],
   "source": [
    "def eval_random_classifier_on db, model\n",
    "  predictions = Hash.new\n",
    "  # BEGIN YOUR CODE\n",
    "  dataset = extract_features db\n",
    "  dataset.each do |p|\n",
    "    predictions[p[\"id\"]] = rand > 0.5 ? 1 : 0\n",
    "  end\n",
    "  #END YOUR CODE\n",
    "  return predictions\n",
    "end"
   ]
  },
  {
   "cell_type": "code",
   "execution_count": 259,
   "metadata": {
    "deletable": false,
    "editable": false,
    "nbgrader": {
     "checksum": "97a9b538e5e7acb57092775422137727",
     "grade": true,
     "grade_id": "cell-0894635a28589830",
     "locked": true,
     "points": 5,
     "schema_version": 1,
     "solution": false
    }
   },
   "outputs": [
    {
     "name": "stdout",
     "output_type": "stream",
     "text": [
      "create_dataset Start Time : 2019-04-18 03:39:14 +0000\n",
      "create_dataset End Time : 2019-04-18 03:39:15 +0000\n"
     ]
    },
    {
     "ename": "Test::Unit::AssertionFailedError",
     "evalue": "<15334> expected but was\n<1000>.",
     "output_type": "error",
     "traceback": [
      "\u001b[31mTest::Unit::AssertionFailedError\u001b[0m: <15334> expected but was\n<1000>.",
      "\u001b[37m/usr/local/rvm/gems/ruby-2.5.1/gems/test-unit-3.2.9/lib/test/unit/assertions.rb:55:in `block in assert_block'\u001b[0m",
      "\u001b[37m/usr/local/rvm/gems/ruby-2.5.1/gems/test-unit-3.2.9/lib/test/unit/assertions.rb:1636:in `_wrap_assertion'\u001b[0m",
      "\u001b[37m/usr/local/rvm/gems/ruby-2.5.1/gems/test-unit-3.2.9/lib/test/unit/assertions.rb:53:in `assert_block'\u001b[0m",
      "\u001b[37m/usr/local/rvm/gems/ruby-2.5.1/gems/test-unit-3.2.9/lib/test/unit/assertions.rb:240:in `assert_equal'\u001b[0m",
      "\u001b[37m<main>:3:in `test_11_1'\u001b[0m",
      "\u001b[37m<main>:14:in `<main>'\u001b[0m",
      "\u001b[37m/usr/local/rvm/gems/ruby-2.5.1/gems/iruby-0.3/lib/iruby/backend.rb:44:in `eval'\u001b[0m",
      "\u001b[37m/usr/local/rvm/gems/ruby-2.5.1/gems/iruby-0.3/lib/iruby/backend.rb:44:in `eval'\u001b[0m",
      "\u001b[37m/usr/local/rvm/gems/ruby-2.5.1/gems/iruby-0.3/lib/iruby/backend.rb:12:in `eval'\u001b[0m",
      "\u001b[37m/usr/local/rvm/gems/ruby-2.5.1/gems/iruby-0.3/lib/iruby/kernel.rb:87:in `execute_request'\u001b[0m",
      "\u001b[37m/usr/local/rvm/gems/ruby-2.5.1/gems/iruby-0.3/lib/iruby/kernel.rb:47:in `dispatch'\u001b[0m",
      "\u001b[37m/usr/local/rvm/gems/ruby-2.5.1/gems/iruby-0.3/lib/iruby/kernel.rb:37:in `run'\u001b[0m",
      "\u001b[37m/usr/local/rvm/gems/ruby-2.5.1/gems/iruby-0.3/lib/iruby/command.rb:70:in `run_kernel'\u001b[0m",
      "\u001b[37m/usr/local/rvm/gems/ruby-2.5.1/gems/iruby-0.3/lib/iruby/command.rb:34:in `run'\u001b[0m",
      "\u001b[37m/usr/local/rvm/gems/ruby-2.5.1/gems/iruby-0.3/bin/iruby:5:in `<top (required)>'\u001b[0m",
      "\u001b[37m/usr/local/rvm/gems/ruby-2.5.1/bin/iruby:23:in `load'\u001b[0m",
      "\u001b[37m/usr/local/rvm/gems/ruby-2.5.1/bin/iruby:23:in `<main>'\u001b[0m",
      "\u001b[37m/usr/local/rvm/gems/ruby-2.5.1/bin/ruby_executable_hooks:15:in `eval'\u001b[0m",
      "\u001b[37m/usr/local/rvm/gems/ruby-2.5.1/bin/ruby_executable_hooks:15:in `<main>'\u001b[0m"
     ]
    }
   ],
   "source": [
    "def test_11_1\n",
    "  model = train_random_classifier $train_db\n",
    "  predictions = eval_random_classifier_on $dev_db, model\n",
    "  assert_equal 15334, predictions.size\n",
    "  scores = get_labels_for $dev_db, predictions\n",
    "  assert_equal 15334, scores.size\n",
    "  \n",
    "  fp, tp, auc = roc_curve scores\n",
    "  \n",
    "  assert_equal(15334 + 1, fp.size, \"Get all the points\")\n",
    "  assert_true(auc > 0.45, \"AUC #{auc} > 0.45\")\n",
    "  assert_true(auc < 0.55, \"AUC #{auc} < 0.55\")\n",
    "  plot_roc_curve(fp, tp, auc).show()\n",
    "end\n",
    "test_11_1()"
   ]
  },
  {
   "cell_type": "code",
   "execution_count": 260,
   "metadata": {
    "deletable": false,
    "editable": false,
    "nbgrader": {
     "checksum": "c01e69fe97734e6318553bbe1c94bbae",
     "grade": true,
     "grade_id": "cell-e9d5df24f992e2c2",
     "locked": true,
     "points": 5,
     "schema_version": 1,
     "solution": false
    }
   },
   "outputs": [
    {
     "data": {
      "text/plain": [
       "\"Evaluation on test set after submission\""
      ]
     },
     "execution_count": 260,
     "metadata": {},
     "output_type": "execute_result"
    }
   ],
   "source": [
    "\"Evaluation on test set after submission\""
   ]
  },
  {
   "cell_type": "markdown",
   "metadata": {},
   "source": [
    "## Question 1.2 (10 Points)\n",
    "\n",
    "Implement a \"perfect\" classifier, one in which the score is the class label. You should not use the class label as a feature, but if you do, then your performance will be too good to be true."
   ]
  },
  {
   "cell_type": "code",
   "execution_count": 261,
   "metadata": {
    "deletable": false,
    "nbgrader": {
     "checksum": "49b544b7ebb0e362379744b357c1309b",
     "grade": false,
     "grade_id": "cell-3ce529a5234800e8",
     "locked": false,
     "schema_version": 1,
     "solution": true
    }
   },
   "outputs": [
    {
     "data": {
      "text/plain": [
       ":train_perfect_classifier"
      ]
     },
     "execution_count": 261,
     "metadata": {},
     "output_type": "execute_result"
    }
   ],
   "source": [
    "def train_perfect_classifier train_db\n",
    "  model = nil\n",
    "  # BEGIN YOUR CODE\n",
    "\n",
    "  #END YOUR CODE\n",
    "  return model\n",
    "end"
   ]
  },
  {
   "cell_type": "code",
   "execution_count": 262,
   "metadata": {
    "deletable": false,
    "nbgrader": {
     "checksum": "88dd04961ac933295122a18055c449ac",
     "grade": false,
     "grade_id": "cell-ac7fff56b7919476",
     "locked": false,
     "schema_version": 1,
     "solution": true
    }
   },
   "outputs": [
    {
     "data": {
      "text/plain": [
       ":eval_perfect_classifier_on"
      ]
     },
     "execution_count": 262,
     "metadata": {},
     "output_type": "execute_result"
    }
   ],
   "source": [
    "def eval_perfect_classifier_on db, model\n",
    "  predictions = Hash.new\n",
    "  # BEGIN YOUR CODE\n",
    "  dataset = extract_features db\n",
    "  dataset.each do |p|\n",
    "    predictions[p[\"id\"]] = p[\"label\"]\n",
    "  end\n",
    "  #END YOUR CODE\n",
    "  return predictions\n",
    "end"
   ]
  },
  {
   "cell_type": "code",
   "execution_count": 263,
   "metadata": {
    "deletable": false,
    "editable": false,
    "nbgrader": {
     "checksum": "61a75fa353b3aef5bdfe710a860fc41d",
     "grade": true,
     "grade_id": "cell-c3b1c8a677a2cf83",
     "locked": true,
     "points": 5,
     "schema_version": 1,
     "solution": false
    },
    "scrolled": true
   },
   "outputs": [
    {
     "name": "stdout",
     "output_type": "stream",
     "text": [
      "create_dataset Start Time : 2019-04-18 03:39:18 +0000\n",
      "create_dataset End Time : 2019-04-18 03:39:18 +0000\n"
     ]
    },
    {
     "ename": "Test::Unit::AssertionFailedError",
     "evalue": "<15334> expected but was\n<1000>.",
     "output_type": "error",
     "traceback": [
      "\u001b[31mTest::Unit::AssertionFailedError\u001b[0m: <15334> expected but was\n<1000>.",
      "\u001b[37m/usr/local/rvm/gems/ruby-2.5.1/gems/test-unit-3.2.9/lib/test/unit/assertions.rb:55:in `block in assert_block'\u001b[0m",
      "\u001b[37m/usr/local/rvm/gems/ruby-2.5.1/gems/test-unit-3.2.9/lib/test/unit/assertions.rb:1636:in `_wrap_assertion'\u001b[0m",
      "\u001b[37m/usr/local/rvm/gems/ruby-2.5.1/gems/test-unit-3.2.9/lib/test/unit/assertions.rb:53:in `assert_block'\u001b[0m",
      "\u001b[37m/usr/local/rvm/gems/ruby-2.5.1/gems/test-unit-3.2.9/lib/test/unit/assertions.rb:240:in `assert_equal'\u001b[0m",
      "\u001b[37m<main>:3:in `test_12_1'\u001b[0m",
      "\u001b[37m<main>:14:in `<main>'\u001b[0m",
      "\u001b[37m/usr/local/rvm/gems/ruby-2.5.1/gems/iruby-0.3/lib/iruby/backend.rb:44:in `eval'\u001b[0m",
      "\u001b[37m/usr/local/rvm/gems/ruby-2.5.1/gems/iruby-0.3/lib/iruby/backend.rb:44:in `eval'\u001b[0m",
      "\u001b[37m/usr/local/rvm/gems/ruby-2.5.1/gems/iruby-0.3/lib/iruby/backend.rb:12:in `eval'\u001b[0m",
      "\u001b[37m/usr/local/rvm/gems/ruby-2.5.1/gems/iruby-0.3/lib/iruby/kernel.rb:87:in `execute_request'\u001b[0m",
      "\u001b[37m/usr/local/rvm/gems/ruby-2.5.1/gems/iruby-0.3/lib/iruby/kernel.rb:47:in `dispatch'\u001b[0m",
      "\u001b[37m/usr/local/rvm/gems/ruby-2.5.1/gems/iruby-0.3/lib/iruby/kernel.rb:37:in `run'\u001b[0m",
      "\u001b[37m/usr/local/rvm/gems/ruby-2.5.1/gems/iruby-0.3/lib/iruby/command.rb:70:in `run_kernel'\u001b[0m",
      "\u001b[37m/usr/local/rvm/gems/ruby-2.5.1/gems/iruby-0.3/lib/iruby/command.rb:34:in `run'\u001b[0m",
      "\u001b[37m/usr/local/rvm/gems/ruby-2.5.1/gems/iruby-0.3/bin/iruby:5:in `<top (required)>'\u001b[0m",
      "\u001b[37m/usr/local/rvm/gems/ruby-2.5.1/bin/iruby:23:in `load'\u001b[0m",
      "\u001b[37m/usr/local/rvm/gems/ruby-2.5.1/bin/iruby:23:in `<main>'\u001b[0m",
      "\u001b[37m/usr/local/rvm/gems/ruby-2.5.1/bin/ruby_executable_hooks:15:in `eval'\u001b[0m",
      "\u001b[37m/usr/local/rvm/gems/ruby-2.5.1/bin/ruby_executable_hooks:15:in `<main>'\u001b[0m"
     ]
    }
   ],
   "source": [
    "def test_12_1\n",
    "  model = train_perfect_classifier $train_db\n",
    "  predictions = eval_perfect_classifier_on $dev_db, model\n",
    "  assert_equal 15334, predictions.size\n",
    "  scores = get_labels_for $dev_db, predictions\n",
    "  assert_equal 15334, scores.size\n",
    "  \n",
    "  fp, tp, auc = roc_curve scores\n",
    "  \n",
    "  assert_equal(15334 + 1, fp.size, \"Get all the points\")\n",
    "  assert_true(auc > 0.95, \"AUC #{auc} > 0.95\")\n",
    "  assert_true(auc < 1.05, \"AUC #{auc} < 1.05\")\n",
    "  plot_roc_curve(fp, tp, auc).show()\n",
    "end\n",
    "test_12_1()"
   ]
  },
  {
   "cell_type": "code",
   "execution_count": 264,
   "metadata": {
    "deletable": false,
    "editable": false,
    "nbgrader": {
     "checksum": "d7f9c6c2bf224abf94f4533a1b2206d4",
     "grade": true,
     "grade_id": "cell-820848733de80967",
     "locked": true,
     "points": 5,
     "schema_version": 1,
     "solution": false
    }
   },
   "outputs": [
    {
     "data": {
      "text/plain": [
       "\"Evaluation on test set after submission\""
      ]
     },
     "execution_count": 264,
     "metadata": {},
     "output_type": "execute_result"
    }
   ],
   "source": [
    "\"Evaluation on test set after submission\""
   ]
  },
  {
   "cell_type": "markdown",
   "metadata": {},
   "source": [
    "## Question 2.1 (15 Points)\n",
    "\n",
    "Implement a classifier that achieves an auc, $a$, in range $a\\in (0.5, 0.6)$. This demonstrates that you have discovered some moderately useful features and can control how your model performs. You will not receive any extra points for a model which performs better than 0.6 in this question. \n",
    "\n",
    "Note: **do not use the target label in your training or evaluation**"
   ]
  },
  {
   "cell_type": "code",
   "execution_count": 265,
   "metadata": {},
   "outputs": [
    {
     "data": {
      "text/plain": [
       ":test"
      ]
     },
     "execution_count": 265,
     "metadata": {},
     "output_type": "execute_result"
    }
   ],
   "source": [
    "class NumericSplit\n",
    "  attr_reader :fname, :value\n",
    "  def initialize fname, value\n",
    "    @fname = fname\n",
    "    @value = value\n",
    "    @lpath = \"#{@fname} < #{@value}\"\n",
    "    @rpath = \"#{@fname} >= #{@value}\"\n",
    "  end\n",
    "  \n",
    "  def to_s\n",
    "    \"Numeric[#{@fname} <=> #{@value}]\"\n",
    "  end\n",
    "  \n",
    "  def split dataset\n",
    "    # BEGIN YOUR CODE\n",
    "    return dataset.select{|row| row[\"features\"].key?(@fname)}.group_by {|row| row[\"features\"][@fname] < @value ? @lpath : @rpath}\n",
    "    #END YOUR CODE\n",
    "  end\n",
    "  \n",
    "  def test x\n",
    "    # BEGIN YOUR CODE\n",
    "    test_value = x[\"features\"][@fname]\n",
    "    test_value < @value ? @lpath : @rpath\n",
    "    #END YOUR CODE\n",
    "  end\n",
    "end"
   ]
  },
  {
   "cell_type": "code",
   "execution_count": 266,
   "metadata": {},
   "outputs": [
    {
     "data": {
      "text/plain": [
       ":split"
      ]
     },
     "execution_count": 266,
     "metadata": {},
     "output_type": "execute_result"
    }
   ],
   "source": [
    "class CategoricalSplit\n",
    "  attr_reader :fname\n",
    "  def initialize fname\n",
    "    @fname = fname\n",
    "  end\n",
    "  \n",
    "  def split dataset\n",
    "    # BEGIN YOUR CODE\n",
    "    return dataset.select{|row| row[\"features\"].key?(@fname)}.group_by {|row| row[\"features\"][@fname]}\n",
    "    #END YOUR CODE\n",
    "  end\n",
    "  \n",
    "#   def test x\n",
    "#     # BEGIN YOUR CODE\n",
    "#     test_value = x[\"features\"][@fname]\n",
    "#     test_value < @value ? @lpath : @rpath\n",
    "#     #END YOUR CODE\n",
    "#   end\n",
    "end"
   ]
  },
  {
   "cell_type": "code",
   "execution_count": 338,
   "metadata": {},
   "outputs": [
    {
     "data": {
      "text/plain": [
       ":matches?"
      ]
     },
     "execution_count": 338,
     "metadata": {},
     "output_type": "execute_result"
    }
   ],
   "source": [
    "class NumericSplitter\n",
    "  def new_split dataset, initial_entropy, fname\n",
    "    # BEGIN YOUR CODE\n",
    "    # check the feature is numeric or categorical\n",
    "#     puts fname\n",
    "    if matches?(dataset, fname)\n",
    "#       puts \"#{fname} is Numberic\"\n",
    "      dataset.each do |p|\n",
    "        if !p[\"features\"].key?(fname) || p[\"features\"][fname] == \"\"\n",
    "          p[\"features\"][fname] = 0\n",
    "        end\n",
    "      end\n",
    "#       puts dataset.map{|p| p[\"features\"][fname]}\n",
    "      sorted_dataset = dataset.sort_by{|p| p[\"features\"][fname]}\n",
    "      farray = sorted_dataset.map{|p| p[\"features\"][fname]}.uniq\n",
    "      farray << farray[farray.length - 1] + 1\n",
    "     if fname = \"ext_source_1\" || fname = \"ext_source_2\"\n",
    "       puts farray.length\n",
    "     end\n",
    "      tindex = 0\n",
    "      best_threshhood = farray[tindex]\n",
    "      best_ig = 0\n",
    "      index = 0\n",
    "      while index < sorted_dataset.length do\n",
    "        while (index < sorted_dataset.length &&sorted_dataset[index][\"features\"][fname] < farray[tindex]) do\n",
    "          index += 1\n",
    "        end\n",
    "        tindex += 1\n",
    "        threshhood = farray[tindex - 1]\n",
    "        split = {\"l\" => sorted_dataset[0, index], \"r\" => sorted_dataset[index, sorted_dataset.length]}\n",
    "        ig = information_gain(initial_entropy, split)\n",
    "        if ig > best_ig\n",
    "          best_ig = ig\n",
    "          best_threshhood = threshhood\n",
    "        end\n",
    "      end\n",
    "      t_max = best_threshhood\n",
    "      ig_max = best_ig\n",
    "      return [NumericSplit.new(fname, t_max), ig_max]\n",
    "    else\n",
    "#       puts \"#{fname} is String\"\n",
    "      dataset.each do |p|\n",
    "        if p[\"features\"][fname] == \"\"\n",
    "          p[\"features\"][fname] = \"miss\"\n",
    "        end\n",
    "      end\n",
    "      split = dataset.group_by {|r| r[\"features\"].fetch(fname)}\n",
    "      ig_max = information_gain(initial_entropy,split)\n",
    "      return [CategoricalSplit.new(fname), ig_max]\n",
    "    end\n",
    "    #END YOUR CODE\n",
    "  end\n",
    "  \n",
    "  def matches? x, fname\n",
    "    x.each do |p|\n",
    "#       puts p\n",
    "      if p[\"features\"].key?(fname) && p[\"features\"][fname] != \"\"\n",
    "        return p[\"features\"][fname].is_a?(Numeric)\n",
    "      end\n",
    "    end\n",
    "#     x.all? {|r| r[\"features\"].fetch(fname, 0.0).is_a?(Numeric)}\n",
    "  end\n",
    "end"
   ]
  },
  {
   "cell_type": "code",
   "execution_count": 326,
   "metadata": {},
   "outputs": [
    {
     "data": {
      "text/plain": [
       ":eval_tree"
      ]
     },
     "execution_count": 326,
     "metadata": {},
     "output_type": "execute_result"
    }
   ],
   "source": [
    "class DecisionTree\n",
    "  attr_reader :tree, :h0\n",
    "  \n",
    "  def initialize splitters, min_size, max_depth\n",
    "    @splitters = splitters\n",
    "    @min_size = min_size\n",
    "    @max_depth = max_depth\n",
    "  end\n",
    "  \n",
    "  def init_dataset dataset\n",
    "    @dataset = dataset\n",
    "    @header = @dataset[\"features\"]\n",
    "    @c_dist = class_distribution @dataset[\"data\"]\n",
    "    @h0 = entropy @c_dist\n",
    "    @tree = {n: @dataset[\"data\"].size, entropy: @h0, dist: @c_dist, split: nil, children: {}}    \n",
    "  end\n",
    "  \n",
    "  def find_best_split dataset, initial_entropy\n",
    "    # BEGIN YOUR CODE\n",
    "    splitter = NumericSplitter.new \n",
    "    best_split = [nil, 0]\n",
    "    puts @header\n",
    "    @header.each do |feature|\n",
    "      puts feature\n",
    "      new_split = splitter.new_split dataset, initial_entropy, feature\n",
    "#       puts new_split[1], best_split[1]\n",
    "      if new_split[1] > best_split[1]\n",
    "        best_split = new_split\n",
    "      end\n",
    "    end\n",
    "    return best_split\n",
    "    #END YOUR CODE\n",
    "  end\n",
    "  \n",
    "  def train dataset\n",
    "    init_dataset dataset\n",
    "    build_tree @dataset[\"data\"], @tree, @max_depth\n",
    "  end\n",
    "\n",
    "  def build_tree x, root, max_depth\n",
    "    # BEGIN YOUR CODE\n",
    "    if root[:dist].keys.length <= 1\n",
    "      return root\n",
    "    end\n",
    "    if x.length <= @min_size\n",
    "      return root\n",
    "    end\n",
    "    if max_depth <= 1\n",
    "      return root\n",
    "    end\n",
    "    best_split, best_ig = find_best_split x, root[:entropy]\n",
    "    if best_split == nil\n",
    "      return root\n",
    "    end\n",
    "    if best_split.is_a? NumericSplit\n",
    "      puts \"#{best_split.fname} is numberic\"\n",
    "      splited = best_split.split(x)\n",
    "      root[:split] = best_split\n",
    "      paths = []\n",
    "      splited.keys.each do |path|\n",
    "        paths << path\n",
    "      end\n",
    "#       puts paths\n",
    "      subset0 = splited[paths[0]]\n",
    "      subset1 = splited[paths[1]]\n",
    "      node0 = {n: subset0.size, entropy: entropy(class_distribution(subset0)), dist: class_distribution(subset0), split: nil, children: {}} \n",
    "      node1 = {n: subset1.size, entropy: entropy(class_distribution(subset1)), dist: class_distribution(subset1), split: nil, children: {}}\n",
    "      root[:children][paths[0]] = node0\n",
    "      root[:children][paths[1]] = node1\n",
    "      build_tree subset0, node0, max_depth - 1\n",
    "      build_tree subset1, node1, max_depth - 1\n",
    "    else\n",
    "      puts \"#{best_split.fname} is categorical\"\n",
    "      splited = best_split.split(x)\n",
    "      root[:split] = best_split\n",
    "#       paths = []\n",
    "#       splited.keys.each do |path|\n",
    "#         paths << path\n",
    "#       end\n",
    "#       puts paths\n",
    "      splited.keys.each do |path|\n",
    "        subset = splited[path]\n",
    "        node = {n: subset.size, entropy: entropy(class_distribution(subset)), dist: class_distribution(subset), split: nil, children: {}} \n",
    "        root[:children][path] = node\n",
    "        build_tree subset, node, max_depth - 1\n",
    "      end\n",
    "    end\n",
    "    #END YOUR CODE\n",
    "  end\n",
    "  \n",
    "  def predict x\n",
    "    return eval_tree x, @tree\n",
    "  end\n",
    "  \n",
    "  def eval_tree x, root\n",
    "    # BEGIN YOUR CODE\n",
    "    if root[:split] == nil\n",
    "     return root[:dist][1]\n",
    "    end\n",
    "    fname = root[:split].fname\n",
    "#     puts fname, x[\"features\"][fname], x[\"features\"][fname] == \"\"\n",
    "    if !x[\"features\"].key?(fname) || x[\"features\"][fname] == \"\"\n",
    "        x[\"features\"][fname] = (root[:split].is_a? NumericSplit) ? 0 : \"miss\"\n",
    "    end\n",
    "    if root[:split].is_a? NumericSplit\n",
    "      l_path = fname + \" < \" + root[:split].value.to_s\n",
    "      r_path = fname + \" >= \" + root[:split].value.to_s\n",
    "      if x[\"features\"].key?(fname) && x[\"features\"][fname] >= root[:split].value\n",
    "        return eval_tree(x, root[:children][r_path])\n",
    "      else\n",
    "        return eval_tree(x, root[:children][l_path])\n",
    "      end\n",
    "    else\n",
    "      path = x[\"features\"][fname]\n",
    "      if !root[:children].keys.include?(path)\n",
    "         return root[:dist][0] >= root[:dist][1] ? 0 : 1\n",
    "      end\n",
    "      return eval_tree(x, root[:children][path])\n",
    "    end\n",
    "    #END YOUR CODE\n",
    "  end\n",
    "end"
   ]
  },
  {
   "cell_type": "code",
   "execution_count": 309,
   "metadata": {},
   "outputs": [],
   "source": [
    "# def numerize dataset\n",
    "#   numerized_dataset = Hash.new\n",
    "#   numerized_dataset[\"features\"] = Array.new\n",
    "#   numerized_dataset[\"data\"] = Array.new\n",
    "#   dataset.each do |p|\n",
    "#     numerized_point = Hash.new\n",
    "#     numerized_point[\"id\"] = p[\"id\"]\n",
    "#     numerized_point[\"label\"] = p[\"label\"]\n",
    "#     p[\"features\"].keys.each do |k|\n",
    "#       if \n",
    "#     end\n",
    "#   end\n",
    "#   return numerized_dataset\n",
    "# end"
   ]
  },
  {
   "cell_type": "code",
   "execution_count": 310,
   "metadata": {},
   "outputs": [
    {
     "data": {
      "text/plain": [
       ":matches?"
      ]
     },
     "execution_count": 310,
     "metadata": {},
     "output_type": "execute_result"
    }
   ],
   "source": [
    "  def matches? x, fname\n",
    "    x.each do |p|\n",
    "      if p[\"features\"].key?(fname) && p[\"features\"][fname] != \"\"\n",
    "        return p[\"features\"][fname].is_a?(Numeric)\n",
    "      end\n",
    "    end\n",
    "#     x.all? {|r| r[\"features\"].fetch(fname, 0.0).is_a?(Numeric)}\n",
    "  end"
   ]
  },
  {
   "cell_type": "code",
   "execution_count": 311,
   "metadata": {},
   "outputs": [
    {
     "name": "stdout",
     "output_type": "stream",
     "text": [
      "create_dataset Start Time : 2019-04-18 04:39:22 +0000\n",
      "create_dataset End Time : 2019-04-18 04:39:22 +0000\n"
     ]
    },
    {
     "data": {
      "text/plain": [
       "false"
      ]
     },
     "execution_count": 311,
     "metadata": {},
     "output_type": "execute_result"
    }
   ],
   "source": [
    "dataset_data = extract_features $train_db\n",
    "dataset = Hash.new\n",
    "dataset_data.first\n",
    "dataset[\"features\"] = dataset_data.first[\"features\"]\n",
    "matches?(dataset_data, \"wallsmaterial_mode\")"
   ]
  },
  {
   "cell_type": "code",
   "execution_count": 332,
   "metadata": {
    "deletable": false,
    "nbgrader": {
     "checksum": "5f02f6c154bca2b3daba56e5bbbb21ad",
     "grade": false,
     "grade_id": "cell-32f29f1c7a8d9715",
     "locked": false,
     "schema_version": 1,
     "solution": true
    }
   },
   "outputs": [
    {
     "data": {
      "text/plain": [
       ":train_one_classifier"
      ]
     },
     "execution_count": 332,
     "metadata": {},
     "output_type": "execute_result"
    }
   ],
   "source": [
    "def train_one_classifier train_db\n",
    "  model = nil\n",
    "  # BEGIN YOUR CODE\n",
    "  model = DecisionTree.new [NumericSplitter.new], 100, 20\n",
    "  dataset_data = extract_features train_db\n",
    "  puts dataset_data.length\n",
    "  dataset = Hash.new\n",
    "  dataset[\"features\"] = dataset_data.first[\"features\"].keys\n",
    "  dataset[\"data\"] = dataset_data\n",
    "  start_time = Time.new\n",
    "  puts \"Train Start Time : \" + start_time.inspect\n",
    "  model.train dataset\n",
    "  end_time = Time.new\n",
    "  puts \"Train End Time : \" + end_time.inspect\n",
    "  #END YOUR CODE\n",
    "  return model\n",
    "end"
   ]
  },
  {
   "cell_type": "code",
   "execution_count": 333,
   "metadata": {
    "deletable": false,
    "nbgrader": {
     "checksum": "54f397550779000c0e2b0aa6b03e94c9",
     "grade": false,
     "grade_id": "cell-6c4b065f01e91f36",
     "locked": false,
     "schema_version": 1,
     "solution": true
    }
   },
   "outputs": [
    {
     "data": {
      "text/plain": [
       ":eval_one_classifier_on"
      ]
     },
     "execution_count": 333,
     "metadata": {},
     "output_type": "execute_result"
    }
   ],
   "source": [
    "def eval_one_classifier_on db, model\n",
    "  predictions = Hash.new\n",
    "  # BEGIN YOUR CODE\n",
    "  tree = model.tree\n",
    "  dataset_data = extract_features db\n",
    "  dataset_data.each do |p|\n",
    "    id = p[\"id\"]\n",
    "    predictions[id] = model.predict(p)\n",
    "  end\n",
    "  #END YOUR CODE\n",
    "  return predictions\n",
    "end"
   ]
  },
  {
   "cell_type": "code",
   "execution_count": 339,
   "metadata": {},
   "outputs": [
    {
     "name": "stdout",
     "output_type": "stream",
     "text": [
      "create_dataset Start Time : 2019-04-18 05:40:06 +0000\n",
      "create_dataset End Time : 2019-04-18 05:40:06 +0000\n",
      "1000\n",
      "Train Start Time : 2019-04-18 05:40:06 +0000\n",
      "[\"name_contract_type\", \"code_gender\", \"flag_own_car\", \"flag_own_realty\", \"cnt_children\", \"amt_income_total\", \"amt_credit\", \"amt_annuity\", \"amt_goods_price\", \"name_type_suite\", \"name_income_type\", \"name_education_type\", \"name_family_status\", \"name_housing_type\", \"region_population_relative\", \"days_birth\", \"days_employed\", \"days_registration\", \"days_id_publish\", \"own_car_age\", \"flag_mobil\", \"flag_emp_phone\", \"flag_work_phone\", \"flag_cont_mobile\", \"flag_phone\", \"flag_email\", \"occupation_type\", \"cnt_fam_members\", \"region_rating_client\", \"region_rating_client_w_city\", \"weekday_appr_process_start\", \"hour_appr_process_start\", \"reg_region_not_live_region\", \"reg_region_not_work_region\", \"live_region_not_work_region\", \"reg_city_not_live_city\", \"reg_city_not_work_city\", \"live_city_not_work_city\", \"organization_type\", \"ext_source_1\", \"ext_source_2\", \"ext_source_3\", \"apartments_avg\", \"basementarea_avg\", \"years_beginexpluatation_avg\", \"years_build_avg\", \"commonarea_avg\", \"elevators_avg\", \"entrances_avg\", \"floorsmax_avg\", \"floorsmin_avg\", \"landarea_avg\", \"livingapartments_avg\", \"livingarea_avg\", \"nonlivingapartments_avg\", \"nonlivingarea_avg\", \"apartments_mode\", \"basementarea_mode\", \"years_beginexpluatation_mode\", \"years_build_mode\", \"commonarea_mode\", \"elevators_mode\", \"entrances_mode\", \"floorsmax_mode\", \"floorsmin_mode\", \"landarea_mode\", \"livingapartments_mode\", \"livingarea_mode\", \"nonlivingapartments_mode\", \"nonlivingarea_mode\", \"apartments_medi\", \"basementarea_medi\", \"years_beginexpluatation_medi\", \"years_build_medi\", \"commonarea_medi\", \"elevators_medi\", \"entrances_medi\", \"floorsmax_medi\", \"floorsmin_medi\", \"landarea_medi\", \"livingapartments_medi\", \"livingarea_medi\", \"nonlivingapartments_medi\", \"nonlivingarea_medi\", \"fondkapremont_mode\", \"housetype_mode\", \"totalarea_mode\", \"wallsmaterial_mode\", \"emergencystate_mode\", \"obs_30_cnt_social_circle\", \"def_30_cnt_social_circle\", \"obs_60_cnt_social_circle\", \"def_60_cnt_social_circle\", \"days_last_phone_change\", \"flag_document_2\", \"flag_document_3\", \"flag_document_4\", \"flag_document_5\", \"flag_document_6\", \"flag_document_7\", \"flag_document_8\", \"flag_document_9\", \"flag_document_10\", \"flag_document_11\", \"flag_document_12\", \"flag_document_13\", \"flag_document_14\", \"flag_document_15\", \"flag_document_16\", \"flag_document_17\", \"flag_document_18\", \"flag_document_19\", \"flag_document_20\", \"flag_document_21\", \"amt_req_credit_bureau_hour\", \"amt_req_credit_bureau_day\", \"amt_req_credit_bureau_week\", \"amt_req_credit_bureau_mon\", \"amt_req_credit_bureau_qrt\", \"amt_req_credit_bureau_year\"]\n",
      "name_contract_type\n",
      "code_gender\n",
      "flag_own_car\n",
      "flag_own_realty\n",
      "cnt_children\n",
      "5\n"
     ]
    },
    {
     "ename": "ArgumentError",
     "evalue": "comparison of String with 1 failed",
     "output_type": "error",
     "traceback": [
      "\u001b[31mArgumentError\u001b[0m: comparison of String with 1 failed",
      "\u001b[37m<main>:24:in `<'\u001b[0m",
      "\u001b[37m<main>:24:in `new_split'\u001b[0m",
      "\u001b[37m<main>:24:in `block in find_best_split'\u001b[0m",
      "\u001b[37m<main>:22:in `each'\u001b[0m",
      "\u001b[37m<main>:22:in `find_best_split'\u001b[0m",
      "\u001b[37m<main>:50:in `build_tree'\u001b[0m",
      "\u001b[37m<main>:36:in `train'\u001b[0m",
      "\u001b[37m<main>:11:in `train_one_classifier'\u001b[0m",
      "\u001b[37m<main>:1:in `test_21_1'\u001b[0m",
      "\u001b[37m<main>:16:in `<main>'\u001b[0m",
      "\u001b[37m/usr/local/rvm/gems/ruby-2.5.1/gems/iruby-0.3/lib/iruby/backend.rb:44:in `eval'\u001b[0m",
      "\u001b[37m/usr/local/rvm/gems/ruby-2.5.1/gems/iruby-0.3/lib/iruby/backend.rb:44:in `eval'\u001b[0m",
      "\u001b[37m/usr/local/rvm/gems/ruby-2.5.1/gems/iruby-0.3/lib/iruby/backend.rb:12:in `eval'\u001b[0m",
      "\u001b[37m/usr/local/rvm/gems/ruby-2.5.1/gems/iruby-0.3/lib/iruby/kernel.rb:87:in `execute_request'\u001b[0m",
      "\u001b[37m/usr/local/rvm/gems/ruby-2.5.1/gems/iruby-0.3/lib/iruby/kernel.rb:47:in `dispatch'\u001b[0m",
      "\u001b[37m/usr/local/rvm/gems/ruby-2.5.1/gems/iruby-0.3/lib/iruby/kernel.rb:37:in `run'\u001b[0m",
      "\u001b[37m/usr/local/rvm/gems/ruby-2.5.1/gems/iruby-0.3/lib/iruby/command.rb:70:in `run_kernel'\u001b[0m",
      "\u001b[37m/usr/local/rvm/gems/ruby-2.5.1/gems/iruby-0.3/lib/iruby/command.rb:34:in `run'\u001b[0m",
      "\u001b[37m/usr/local/rvm/gems/ruby-2.5.1/gems/iruby-0.3/bin/iruby:5:in `<top (required)>'\u001b[0m",
      "\u001b[37m/usr/local/rvm/gems/ruby-2.5.1/bin/iruby:23:in `load'\u001b[0m",
      "\u001b[37m/usr/local/rvm/gems/ruby-2.5.1/bin/iruby:23:in `<main>'\u001b[0m",
      "\u001b[37m/usr/local/rvm/gems/ruby-2.5.1/bin/ruby_executable_hooks:15:in `eval'\u001b[0m",
      "\u001b[37m/usr/local/rvm/gems/ruby-2.5.1/bin/ruby_executable_hooks:15:in `<main>'\u001b[0m"
     ]
    }
   ],
   "source": [
    "def test_21_1\n",
    "  model = train_one_classifier $train_db\n",
    "#   puts \"Multi-level Tree\", JSON.pretty_generate(model.tree)\n",
    "  predictions = eval_one_classifier_on $dev_db, model\n",
    "#   assert_equal 15334, predictions.size\n",
    "  scores = get_labels_for $dev_db, predictions\n",
    "  puts scores[0,10]\n",
    "#   assert_equal 15334, scores.size\n",
    "  \n",
    "  fp, tp, auc = roc_curve scores\n",
    "  \n",
    "#   assert_equal(15334 + 1, fp.size, \"Get all the points\")\n",
    "  assert_true(auc > 0.5, \"AUC #{auc} > 0.5\")\n",
    "  assert_true(auc < 0.6, \"AUC #{auc} < 0.6\")\n",
    "  plot_roc_curve(fp, tp, auc).show()\n",
    "end\n",
    "test_21_1()"
   ]
  },
  {
   "cell_type": "code",
   "execution_count": 246,
   "metadata": {
    "deletable": false,
    "editable": false,
    "nbgrader": {
     "checksum": "307011e5fd41c1df2ad02973677b4446",
     "grade": true,
     "grade_id": "cell-5b125056bf720e1e",
     "locked": true,
     "points": 8,
     "schema_version": 1,
     "solution": false
    }
   },
   "outputs": [
    {
     "name": "stdout",
     "output_type": "stream",
     "text": [
      "create_dataset Start Time : 2019-04-18 03:31:04 +0000\n",
      "create_dataset End Time : 2019-04-18 03:31:04 +0000\n",
      "1000\n",
      "Train Start Time : 2019-04-18 03:31:04 +0000\n",
      "organization_type is categorical\n",
      "ext_source_3 is numberic\n",
      "[\"ext_source_3 < 0.4668640059537032\", \"ext_source_3 >= 0.4668640059537032\"]\n",
      "occupation_type is categorical\n",
      "obs_30_cnt_social_circle is categorical\n",
      "occupation_type is categorical\n",
      "obs_30_cnt_social_circle is categorical\n",
      "Train End Time : 2019-04-18 03:31:08 +0000\n",
      "create_dataset Start Time : 2019-04-18 03:31:08 +0000\n",
      "create_dataset End Time : 2019-04-18 03:31:08 +0000\n",
      "1000\n",
      "new eval\n",
      "false\n",
      "#<CategoricalSplit:0x0000000009c49b50>\n",
      "continue eval\n",
      "new eval\n",
      "false\n",
      "Numeric[ext_source_3 <=> 0.4668640059537032]\n",
      "continue eval\n",
      "new eval\n",
      "false\n",
      "#<CategoricalSplit:0x000000000a3c11a8>\n",
      "continue eval\n",
      "new eval\n",
      "false\n",
      "\n",
      "root[:split] == nil\n",
      "{0=>0.7333333333333333, 1=>0.26666666666666666}\n",
      "prediction finished\n",
      "new eval\n",
      "false\n",
      "#<CategoricalSplit:0x0000000009c49b50>\n",
      "continue eval\n",
      "new eval\n",
      "true\n"
     ]
    },
    {
     "ename": "NoMethodError",
     "evalue": "undefined method `[]' for nil:NilClass",
     "output_type": "error",
     "traceback": [
      "\u001b[31mNoMethodError\u001b[0m: undefined method `[]' for nil:NilClass",
      "\u001b[37m<main>:96:in `eval_tree'\u001b[0m",
      "\u001b[37m<main>:117:in `eval_tree'\u001b[0m",
      "\u001b[37m<main>:89:in `predict'\u001b[0m",
      "\u001b[37m<main>:7:in `block in eval_one_classifier_on'\u001b[0m",
      "\u001b[37m<main>:5:in `each'\u001b[0m",
      "\u001b[37m<main>:5:in `eval_one_classifier_on'\u001b[0m",
      "\u001b[37m<main>:2:in `test_21_1'\u001b[0m",
      "\u001b[37m<main>:14:in `<main>'\u001b[0m",
      "\u001b[37m/usr/local/rvm/gems/ruby-2.5.1/gems/iruby-0.3/lib/iruby/backend.rb:44:in `eval'\u001b[0m",
      "\u001b[37m/usr/local/rvm/gems/ruby-2.5.1/gems/iruby-0.3/lib/iruby/backend.rb:44:in `eval'\u001b[0m",
      "\u001b[37m/usr/local/rvm/gems/ruby-2.5.1/gems/iruby-0.3/lib/iruby/backend.rb:12:in `eval'\u001b[0m",
      "\u001b[37m/usr/local/rvm/gems/ruby-2.5.1/gems/iruby-0.3/lib/iruby/kernel.rb:87:in `execute_request'\u001b[0m",
      "\u001b[37m/usr/local/rvm/gems/ruby-2.5.1/gems/iruby-0.3/lib/iruby/kernel.rb:47:in `dispatch'\u001b[0m",
      "\u001b[37m/usr/local/rvm/gems/ruby-2.5.1/gems/iruby-0.3/lib/iruby/kernel.rb:37:in `run'\u001b[0m",
      "\u001b[37m/usr/local/rvm/gems/ruby-2.5.1/gems/iruby-0.3/lib/iruby/command.rb:70:in `run_kernel'\u001b[0m",
      "\u001b[37m/usr/local/rvm/gems/ruby-2.5.1/gems/iruby-0.3/lib/iruby/command.rb:34:in `run'\u001b[0m",
      "\u001b[37m/usr/local/rvm/gems/ruby-2.5.1/gems/iruby-0.3/bin/iruby:5:in `<top (required)>'\u001b[0m",
      "\u001b[37m/usr/local/rvm/gems/ruby-2.5.1/bin/iruby:23:in `load'\u001b[0m",
      "\u001b[37m/usr/local/rvm/gems/ruby-2.5.1/bin/iruby:23:in `<main>'\u001b[0m",
      "\u001b[37m/usr/local/rvm/gems/ruby-2.5.1/bin/ruby_executable_hooks:15:in `eval'\u001b[0m",
      "\u001b[37m/usr/local/rvm/gems/ruby-2.5.1/bin/ruby_executable_hooks:15:in `<main>'\u001b[0m"
     ]
    }
   ],
   "source": [
    "def test_21_1\n",
    "  model = train_one_classifier $train_db\n",
    "  predictions = eval_one_classifier_on $dev_db, model\n",
    "  assert_equal 15334, predictions.size\n",
    "  scores = get_labels_for $dev_db, predictions\n",
    "  assert_equal 15334, scores.size\n",
    "  \n",
    "  fp, tp, auc = roc_curve scores\n",
    "  \n",
    "  assert_equal(15334 + 1, fp.size, \"Get all the points\")\n",
    "  assert_true(auc > 0.5, \"AUC #{auc} > 0.5\")\n",
    "  assert_true(auc < 0.6, \"AUC #{auc} < 0.6\")\n",
    "  plot_roc_curve(fp, tp, auc).show()\n",
    "end\n",
    "test_21_1()"
   ]
  },
  {
   "cell_type": "code",
   "execution_count": null,
   "metadata": {
    "deletable": false,
    "editable": false,
    "nbgrader": {
     "checksum": "61990116ce08c72ffa9c3344cd6b454b",
     "grade": true,
     "grade_id": "cell-363d851d592e6a85",
     "locked": true,
     "points": 7,
     "schema_version": 1,
     "solution": false
    }
   },
   "outputs": [],
   "source": [
    "\"Evaluation on test set after submission\"\n"
   ]
  },
  {
   "cell_type": "markdown",
   "metadata": {},
   "source": [
    "## Question 3.1 (25 Points)\n",
    "\n",
    "Implement a classifier that achieves an auc, $a$, in range $a\\in (0.6, 0.7)$. This demonstrates that you have discovered some moderately useful features and can control how your model performs. You will not receive any extra points for a model which performs better than 0.7 in this question. \n",
    "\n",
    "Note: **do not use the target label in your training or evaluation**"
   ]
  },
  {
   "cell_type": "code",
   "execution_count": null,
   "metadata": {
    "deletable": false,
    "nbgrader": {
     "checksum": "73e57a831424b71b80a10061c84d7b20",
     "grade": false,
     "grade_id": "cell-a242797ca61c889e",
     "locked": false,
     "schema_version": 1,
     "solution": true
    }
   },
   "outputs": [],
   "source": [
    "def train_two_classifier train_db\n",
    "  model = nil\n",
    "  # BEGIN YOUR CODE\n",
    "  raise NotImplementedError.new()\n",
    "  #END YOUR CODE\n",
    "  return model\n",
    "end"
   ]
  },
  {
   "cell_type": "code",
   "execution_count": null,
   "metadata": {
    "deletable": false,
    "nbgrader": {
     "checksum": "178b4993a3d676980f87b7751d36274d",
     "grade": false,
     "grade_id": "cell-181a958a930fb0a2",
     "locked": false,
     "schema_version": 1,
     "solution": true
    }
   },
   "outputs": [],
   "source": [
    "def eval_two_classifier_on db, model\n",
    "  predictions = Hash.new\n",
    "  # BEGIN YOUR CODE\n",
    "  raise NotImplementedError.new()\n",
    "  #END YOUR CODE\n",
    "  return predictions\n",
    "end"
   ]
  },
  {
   "cell_type": "code",
   "execution_count": null,
   "metadata": {
    "deletable": false,
    "editable": false,
    "nbgrader": {
     "checksum": "ba2a7f4ddbd0c3d2a48077c57880b043",
     "grade": true,
     "grade_id": "cell-75516fed3f9277cf",
     "locked": true,
     "points": 12,
     "schema_version": 1,
     "solution": false
    }
   },
   "outputs": [],
   "source": [
    "def test_31_1\n",
    "  model = train_two_classifier $train_db\n",
    "  predictions = eval_two_classifier_on $dev_db, model\n",
    "  assert_equal 15334, predictions.size\n",
    "  scores = get_labels_for $dev_db, predictions\n",
    "  assert_equal 15334, scores.size\n",
    "  \n",
    "  fp, tp, auc = roc_curve scores\n",
    "  \n",
    "  assert_equal(15334 + 1, fp.size, \"Get all the points\")\n",
    "  assert_true(auc > 0.6, \"AUC #{auc} > 0.6\")\n",
    "  assert_true(auc < 0.7, \"AUC #{auc} < 0.7\")\n",
    "  plot_roc_curve(fp, tp, auc).show()\n",
    "end\n",
    "test_31_1()"
   ]
  },
  {
   "cell_type": "code",
   "execution_count": null,
   "metadata": {
    "deletable": false,
    "editable": false,
    "nbgrader": {
     "checksum": "3faaa71c0c91f824406e09cd1437f1e6",
     "grade": true,
     "grade_id": "cell-9e945385271308e3",
     "locked": true,
     "points": 13,
     "schema_version": 1,
     "solution": false
    }
   },
   "outputs": [],
   "source": [
    "\"Evaluation on test set after submission\""
   ]
  },
  {
   "cell_type": "markdown",
   "metadata": {},
   "source": [
    "## Question 4.1 (20 Points)\n",
    "\n",
    "Implement a classifier that achieves an auc, $a$, where $a > 0.7$. This demonstrates that you have discovered some interesting features and tuned some algorithms well.  \n",
    "\n",
    "Note: **do not use the target label in your training or evaluation**"
   ]
  },
  {
   "cell_type": "code",
   "execution_count": null,
   "metadata": {
    "deletable": false,
    "nbgrader": {
     "checksum": "79fc8d0e6ddbad1a68a3a36306f3f5ef",
     "grade": false,
     "grade_id": "cell-94cda1372499defa",
     "locked": false,
     "schema_version": 1,
     "solution": true
    }
   },
   "outputs": [],
   "source": [
    "def train_three_classifier train_db\n",
    "  model = nil\n",
    "  # BEGIN YOUR CODE\n",
    "  raise NotImplementedError.new()\n",
    "  #END YOUR CODE\n",
    "  return model\n",
    "end"
   ]
  },
  {
   "cell_type": "code",
   "execution_count": null,
   "metadata": {
    "deletable": false,
    "nbgrader": {
     "checksum": "97eb17d73437b9e93b2b76fc0863c775",
     "grade": false,
     "grade_id": "cell-572731f4985e2fad",
     "locked": false,
     "schema_version": 1,
     "solution": true
    }
   },
   "outputs": [],
   "source": [
    "def eval_three_classifier_on db, model\n",
    "  predictions = Hash.new\n",
    "  # BEGIN YOUR CODE\n",
    "  raise NotImplementedError.new()\n",
    "  #END YOUR CODE\n",
    "  return predictions\n",
    "end"
   ]
  },
  {
   "cell_type": "code",
   "execution_count": null,
   "metadata": {
    "deletable": false,
    "editable": false,
    "nbgrader": {
     "checksum": "eadea4e5f2c77ff9eddb29d41362e008",
     "grade": true,
     "grade_id": "cell-dfd046729e437db0",
     "locked": true,
     "points": 10,
     "schema_version": 1,
     "solution": false
    }
   },
   "outputs": [],
   "source": [
    "def test_41_1\n",
    "  model = train_three_classifier $train_db\n",
    "  predictions = eval_three_classifier_on $dev_db, model\n",
    "  assert_equal 15334, predictions.size\n",
    "  scores = get_labels_for $dev_db, predictions\n",
    "  assert_equal 15334, scores.size\n",
    "  \n",
    "  fp, tp, auc = roc_curve scores\n",
    "  \n",
    "  assert_equal(15334 + 1, fp.size, \"Get all the points\")\n",
    "  assert_true(auc > 0.7, \"AUC #{auc} > 0.7\")\n",
    "  assert_true(auc < 1.0, \"AUC #{auc} < 1.0\")\n",
    "  plot_roc_curve(fp, tp, auc).show()\n",
    "end\n",
    "test_41_1()"
   ]
  },
  {
   "cell_type": "code",
   "execution_count": null,
   "metadata": {
    "deletable": false,
    "editable": false,
    "nbgrader": {
     "checksum": "6e81045731621415f8836eb8319c7259",
     "grade": true,
     "grade_id": "cell-459bed1a2cf2d83c",
     "locked": true,
     "points": 10,
     "schema_version": 1,
     "solution": false
    }
   },
   "outputs": [],
   "source": [
    "\"Evaluation on test set after submission\""
   ]
  },
  {
   "cell_type": "markdown",
   "metadata": {},
   "source": [
    "## Question 5.1 (15 Points)\n",
    "\n",
    "Implement a classifier that achieves an auc, $a$, where $a > 0.75$. Note that this is higher than the average Kaggle competition result, so get creative.\n",
    "\n",
    "Note: **do not use the target label in your training or evaluation**"
   ]
  },
  {
   "cell_type": "code",
   "execution_count": null,
   "metadata": {
    "deletable": false,
    "nbgrader": {
     "checksum": "d009432096361c510ad138dc6710aa1e",
     "grade": false,
     "grade_id": "cell-806d97a0f1a6e03d",
     "locked": false,
     "schema_version": 1,
     "solution": true
    }
   },
   "outputs": [],
   "source": [
    "def train_four_classifier train_db\n",
    "  model = nil\n",
    "  # BEGIN YOUR CODE\n",
    "  raise NotImplementedError.new()\n",
    "  #END YOUR CODE\n",
    "  return model\n",
    "end"
   ]
  },
  {
   "cell_type": "code",
   "execution_count": null,
   "metadata": {
    "deletable": false,
    "nbgrader": {
     "checksum": "ac7db8b851f65822121483bcabbd5fd0",
     "grade": false,
     "grade_id": "cell-cf59b8222688c98c",
     "locked": false,
     "schema_version": 1,
     "solution": true
    }
   },
   "outputs": [],
   "source": [
    "def eval_four_classifier_on db, model\n",
    "  predictions = Hash.new\n",
    "  # BEGIN YOUR CODE\n",
    "  raise NotImplementedError.new()\n",
    "  #END YOUR CODE\n",
    "  return predictions\n",
    "end"
   ]
  },
  {
   "cell_type": "code",
   "execution_count": null,
   "metadata": {
    "deletable": false,
    "editable": false,
    "nbgrader": {
     "checksum": "5a1aba4719823afd8fbd47be515f9a89",
     "grade": true,
     "grade_id": "cell-3de5c820c513e486",
     "locked": true,
     "points": 5,
     "schema_version": 1,
     "solution": false
    }
   },
   "outputs": [],
   "source": [
    "def test_51_1\n",
    "  model = train_four_classifier $train_db\n",
    "  predictions = eval_four_classifier_on $dev_db, model\n",
    "  assert_equal 15334, predictions.size\n",
    "  scores = get_labels_for $dev_db, predictions\n",
    "  assert_equal 15334, scores.size\n",
    "  \n",
    "  fp, tp, auc = roc_curve scores\n",
    "  \n",
    "  assert_equal(15334 + 1, fp.size, \"Get all the points\")\n",
    "  assert_true(auc > 0.75, \"AUC #{auc} > 0.7\")\n",
    "  assert_true(auc < 1.0, \"AUC #{auc} < 1.0\")\n",
    "  plot_roc_curve(fp, tp, auc).show()\n",
    "end\n",
    "test_51_1()"
   ]
  },
  {
   "cell_type": "code",
   "execution_count": null,
   "metadata": {
    "deletable": false,
    "editable": false,
    "nbgrader": {
     "checksum": "6e5439505a49d4d236f851701e397de5",
     "grade": true,
     "grade_id": "cell-38db0d69846fd988",
     "locked": true,
     "points": 10,
     "schema_version": 1,
     "solution": false
    }
   },
   "outputs": [],
   "source": [
    "\"Evaluation on test set after submission\""
   ]
  },
  {
   "cell_type": "markdown",
   "metadata": {},
   "source": [
    "## Question 6.1 (10 Points)\n",
    "\n",
    "Implement a classifier that achieves an auc, $a$, where $a > 0.8$. Note that this as high as the winning Kaggle competitor.\n",
    "\n",
    "Note: **do not use the target label in your training or evaluation**"
   ]
  },
  {
   "cell_type": "code",
   "execution_count": null,
   "metadata": {
    "deletable": false,
    "nbgrader": {
     "checksum": "63b955070d4d61fd4fc029ba4a0a6267",
     "grade": false,
     "grade_id": "cell-a6f90c7e5d402d73",
     "locked": false,
     "schema_version": 1,
     "solution": true
    }
   },
   "outputs": [],
   "source": [
    "def train_five_classifier train_db\n",
    "  model = nil\n",
    "  # BEGIN YOUR CODE\n",
    "  raise NotImplementedError.new()\n",
    "  #END YOUR CODE\n",
    "  return model\n",
    "end"
   ]
  },
  {
   "cell_type": "code",
   "execution_count": null,
   "metadata": {
    "deletable": false,
    "nbgrader": {
     "checksum": "4d6418f82dc0470725dea57e2806b8b8",
     "grade": false,
     "grade_id": "cell-592ebfd4f9d488b6",
     "locked": false,
     "schema_version": 1,
     "solution": true
    }
   },
   "outputs": [],
   "source": [
    "def eval_five_classifier_on db, model\n",
    "  predictions = Hash.new\n",
    "  # BEGIN YOUR CODE\n",
    "  raise NotImplementedError.new()\n",
    "  #END YOUR CODE\n",
    "  return predictions\n",
    "end"
   ]
  },
  {
   "cell_type": "code",
   "execution_count": null,
   "metadata": {
    "deletable": false,
    "editable": false,
    "nbgrader": {
     "checksum": "4f645ddd42f37e3bb1db44944f558d36",
     "grade": true,
     "grade_id": "cell-9262cbdbb3655445",
     "locked": true,
     "points": 2,
     "schema_version": 1,
     "solution": false
    }
   },
   "outputs": [],
   "source": [
    "def test_61_1\n",
    "  model = train_five_classifier $train_db\n",
    "  predictions = eval_five_classifier_on $dev_db, model\n",
    "  assert_equal 15334, predictions.size\n",
    "  scores = get_labels_for $dev_db, predictions\n",
    "  assert_equal 15334, scores.size\n",
    "  \n",
    "  fp, tp, auc = roc_curve scores\n",
    "  \n",
    "  assert_equal(15334 + 1, fp.size, \"Get all the points\")\n",
    "  assert_true(auc > 0.8, \"AUC #{auc} > 0.8\")\n",
    "  assert_true(auc < 1.0, \"AUC #{auc} < 1.0\")\n",
    "  plot_roc_curve(fp, tp, auc).show()\n",
    "end\n",
    "test_61_1()"
   ]
  },
  {
   "cell_type": "code",
   "execution_count": null,
   "metadata": {
    "deletable": false,
    "editable": false,
    "nbgrader": {
     "checksum": "22413482e492b9af85c32d691a6f8eb0",
     "grade": true,
     "grade_id": "cell-6b478841aa2c40ed",
     "locked": true,
     "points": 3,
     "schema_version": 1,
     "solution": false
    }
   },
   "outputs": [],
   "source": [
    "\"Evaluation on test set after submission\""
   ]
  },
  {
   "cell_type": "code",
   "execution_count": null,
   "metadata": {},
   "outputs": [],
   "source": []
  }
 ],
 "metadata": {
  "kernelspec": {
   "display_name": "Ruby 2.5.1",
   "language": "ruby",
   "name": "ruby"
  },
  "language_info": {
   "file_extension": ".rb",
   "mimetype": "application/x-ruby",
   "name": "ruby",
   "version": "2.5.1"
  }
 },
 "nbformat": 4,
 "nbformat_minor": 2
}
